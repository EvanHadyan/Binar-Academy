{
 "cells": [
  {
   "cell_type": "markdown",
   "id": "510b4f38",
   "metadata": {},
   "source": [
    "# Indonesian Hatespeech Recognition"
   ]
  },
  {
   "cell_type": "markdown",
   "id": "af1cc82c",
   "metadata": {},
   "source": [
    "### Load data"
   ]
  },
  {
   "cell_type": "code",
   "execution_count": 5,
   "id": "44d102a9",
   "metadata": {},
   "outputs": [],
   "source": [
    "import numpy as np\n",
    "import pandas as pd\n",
    "import re\n",
    "import matplotlib.pyplot as plt\n",
    "import seaborn as sns\n",
    "import nltk\n",
    "from nltk.corpus import stopwords\n",
    "from nltk.stem import WordNetLemmatizer\n",
    "from cleantext import clean\n",
    "from Sastrawi.Stemmer.StemmerFactory import StemmerFactory\n",
    "import string\n",
    "import warnings\n",
    "warnings.filterwarnings('ignore')\n",
    "from wordcloud import WordCloud, STOPWORDS"
   ]
  },
  {
   "cell_type": "code",
   "execution_count": 78,
   "id": "a1a9625c",
   "metadata": {},
   "outputs": [],
   "source": [
    "data = pd.read_csv('Data/data.csv', encoding= 'latin-1')\n",
    "abusive = pd.read_csv('Data/abusive.csv')\n",
    "alay = pd.read_csv('Data/new_kamusalay.csv', encoding= 'latin-1', names=['original', 'transform'])\n",
    "stopword_dict = pd.read_csv('Data/stopwordbahasa.csv', names=['stopword'])"
   ]
  },
  {
   "cell_type": "code",
   "execution_count": 79,
   "id": "ebedd5dd",
   "metadata": {},
   "outputs": [
    {
     "data": {
      "text/plain": [
       "0        - disaat semua cowok berusaha melacak perhatia...\n",
       "1        RT USER: USER siapa yang telat ngasih tau elu?...\n",
       "2        41. Kadang aku berfikir, kenapa aku tetap perc...\n",
       "3        USER USER AKU ITU AKU\\n\\nKU TAU MATAMU SIPIT T...\n",
       "4        USER USER Kaum cebong kapir udah keliatan dong...\n",
       "                               ...                        \n",
       "13164    USER jangan asal ngomong ndasmu. congor lu yg ...\n",
       "13165                         USER Kasur mana enak kunyuk'\n",
       "13166    USER Hati hati bisu :( .g\\n\\nlagi bosan huft \\...\n",
       "13167    USER USER USER USER Bom yang real mudah terdet...\n",
       "13168    USER Mana situ ngasih(\": itu cuma foto ya kuti...\n",
       "Name: Tweet, Length: 13169, dtype: object"
      ]
     },
     "execution_count": 79,
     "metadata": {},
     "output_type": "execute_result"
    }
   ],
   "source": [
    "data.iloc[:,0]"
   ]
  },
  {
   "cell_type": "code",
   "execution_count": 80,
   "id": "03a4a705",
   "metadata": {},
   "outputs": [
    {
     "name": "stdout",
     "output_type": "stream",
     "text": [
      "<class 'pandas.core.frame.DataFrame'>\n",
      "RangeIndex: 13169 entries, 0 to 13168\n",
      "Data columns (total 13 columns):\n",
      " #   Column         Non-Null Count  Dtype \n",
      "---  ------         --------------  ----- \n",
      " 0   Tweet          13169 non-null  object\n",
      " 1   HS             13169 non-null  int64 \n",
      " 2   Abusive        13169 non-null  int64 \n",
      " 3   HS_Individual  13169 non-null  int64 \n",
      " 4   HS_Group       13169 non-null  int64 \n",
      " 5   HS_Religion    13169 non-null  int64 \n",
      " 6   HS_Race        13169 non-null  int64 \n",
      " 7   HS_Physical    13169 non-null  int64 \n",
      " 8   HS_Gender      13169 non-null  int64 \n",
      " 9   HS_Other       13169 non-null  int64 \n",
      " 10  HS_Weak        13169 non-null  int64 \n",
      " 11  HS_Moderate    13169 non-null  int64 \n",
      " 12  HS_Strong      13169 non-null  int64 \n",
      "dtypes: int64(12), object(1)\n",
      "memory usage: 1.3+ MB\n"
     ]
    }
   ],
   "source": [
    "data.info()"
   ]
  },
  {
   "cell_type": "code",
   "execution_count": 81,
   "id": "c9a8447f",
   "metadata": {},
   "outputs": [],
   "source": [
    "list_1 = ['gue', 'haha', 'oh', 'xd', 'xf', 'x', 'ya', 'xe', 'xa', 'sih', 'i', 'a', 'nya', \n",
    "          'banget', 'kayak', 'orang', 'wkwk', 'nih', 'saat', 'cowok', 'kawan', 'kadang', 'cigax'\n",
    "         ,'jifla', 'di saat']\n",
    "counter = 758\n",
    "n=0\n",
    "while n < len(list_1):\n",
    "    if n == len(list_1):\n",
    "        break\n",
    "    for x in list_1:\n",
    "        stopword_dict.at[counter, 'stopword'] = x\n",
    "        counter = counter+1\n",
    "        n = n + 1"
   ]
  },
  {
   "cell_type": "code",
   "execution_count": 82,
   "id": "02ec6958",
   "metadata": {},
   "outputs": [
    {
     "data": {
      "text/html": [
       "<div>\n",
       "<style scoped>\n",
       "    .dataframe tbody tr th:only-of-type {\n",
       "        vertical-align: middle;\n",
       "    }\n",
       "\n",
       "    .dataframe tbody tr th {\n",
       "        vertical-align: top;\n",
       "    }\n",
       "\n",
       "    .dataframe thead th {\n",
       "        text-align: right;\n",
       "    }\n",
       "</style>\n",
       "<table border=\"1\" class=\"dataframe\">\n",
       "  <thead>\n",
       "    <tr style=\"text-align: right;\">\n",
       "      <th></th>\n",
       "      <th>Tweet</th>\n",
       "      <th>HS</th>\n",
       "      <th>Abusive</th>\n",
       "      <th>HS_Individual</th>\n",
       "      <th>HS_Group</th>\n",
       "      <th>HS_Religion</th>\n",
       "      <th>HS_Race</th>\n",
       "      <th>HS_Physical</th>\n",
       "      <th>HS_Gender</th>\n",
       "      <th>HS_Other</th>\n",
       "      <th>HS_Weak</th>\n",
       "      <th>HS_Moderate</th>\n",
       "      <th>HS_Strong</th>\n",
       "    </tr>\n",
       "  </thead>\n",
       "  <tbody>\n",
       "    <tr>\n",
       "      <th>0</th>\n",
       "      <td>- disaat semua cowok berusaha melacak perhatia...</td>\n",
       "      <td>1</td>\n",
       "      <td>1</td>\n",
       "      <td>1</td>\n",
       "      <td>0</td>\n",
       "      <td>0</td>\n",
       "      <td>0</td>\n",
       "      <td>0</td>\n",
       "      <td>0</td>\n",
       "      <td>1</td>\n",
       "      <td>1</td>\n",
       "      <td>0</td>\n",
       "      <td>0</td>\n",
       "    </tr>\n",
       "  </tbody>\n",
       "</table>\n",
       "</div>"
      ],
      "text/plain": [
       "                                               Tweet  HS  Abusive  \\\n",
       "0  - disaat semua cowok berusaha melacak perhatia...   1        1   \n",
       "\n",
       "   HS_Individual  HS_Group  HS_Religion  HS_Race  HS_Physical  HS_Gender  \\\n",
       "0              1         0            0        0            0          0   \n",
       "\n",
       "   HS_Other  HS_Weak  HS_Moderate  HS_Strong  \n",
       "0         1        1            0          0  "
      ]
     },
     "execution_count": 82,
     "metadata": {},
     "output_type": "execute_result"
    }
   ],
   "source": [
    "data.head(1)"
   ]
  },
  {
   "cell_type": "code",
   "execution_count": 83,
   "id": "a29fbd8e",
   "metadata": {},
   "outputs": [
    {
     "data": {
      "text/plain": [
       "0    - disaat semua cowok berusaha melacak perhatia...\n",
       "1    RT USER: USER siapa yang telat ngasih tau elu?...\n",
       "2    41. Kadang aku berfikir, kenapa aku tetap perc...\n",
       "3    USER USER AKU ITU AKU\\n\\nKU TAU MATAMU SIPIT T...\n",
       "4    USER USER Kaum cebong kapir udah keliatan dong...\n",
       "Name: Tweet, dtype: object"
      ]
     },
     "execution_count": 83,
     "metadata": {},
     "output_type": "execute_result"
    }
   ],
   "source": [
    "data['Tweet'].head()"
   ]
  },
  {
   "cell_type": "markdown",
   "id": "e76f864f",
   "metadata": {},
   "source": [
    "### Data Cleaning"
   ]
  },
  {
   "cell_type": "code",
   "execution_count": 84,
   "id": "c691e61f",
   "metadata": {},
   "outputs": [
    {
     "name": "stdout",
     "output_type": "stream",
     "text": [
      "The First 5 Texts after cleaning: \n",
      "disaat semua cowok berusaha melacak perhatian gue loe lantas remehkan perhatian yg gue kasih khusus ke elo basic elo cowok bego\n",
      "rt user user siapa yang telat ngasih tau elu edan sarap gue bergaul dengan cigax jifla calis sama siapa noh licew juga\n",
      "41 kadang aku berfikir kenapa aku tetap percaya pada tuhan padahal aku selalu jatuh berkali kali kadang aku merasa tuhan itu ninggalkan aku sendirian ketika orangtuaku berencana berpisah ketika kakakku lebih memilih jadi kristen ketika aku anak ter\n",
      "user user aku itu aku n nku tau matamu sipit tapi diliat dari mana itu aku\n",
      "user user kaum cebong kapir udah keliatan dongoknya dari awal tambah dongok lagi hahahah\n"
     ]
    }
   ],
   "source": [
    "def Clean(text):\n",
    "    sms = re.sub('[^0-9a-zA-Z]',' ', text)\n",
    "    sms = sms.lower()\n",
    "    sms = re.sub(' +', ' ', sms)\n",
    "    sms = sms.split()\n",
    "    sms = ' '.join(sms)\n",
    "    return sms\n",
    "\n",
    "data[\"clean_text\"] = data[\"Tweet\"].apply(Clean)\n",
    "#Lets have a look at a sample of texts after cleaning\n",
    "print(\"The First 5 Texts after cleaning: \",*data[\"clean_text\"][:5], sep = \"\\n\")"
   ]
  },
  {
   "cell_type": "code",
   "execution_count": 85,
   "id": "d254b384",
   "metadata": {},
   "outputs": [
    {
     "name": "stdout",
     "output_type": "stream",
     "text": [
      "The First 5 Texts after cleaning: \n",
      "disaat semua cowok berusaha melacak perhatian gue loe lantas remehkan perhatian yg gue kasih khusus ke elo basic elo cowok bego\n",
      " siapa yang telat ngasih tau elu edan sarap gue bergaul dengan cigax jifla calis sama siapa noh licew juga\n",
      " kadang aku berfikir kenapa aku tetap percaya pada tuhan padahal aku selalu jatuh berkali kali kadang aku merasa tuhan itu ninggalkan aku sendirian ketika orangtuaku berencana berpisah ketika kakakku lebih memilih jadi kristen ketika aku anak ter\n",
      " aku itu aku n nku tau matamu sipit tapi diliat dari mana itu aku\n",
      " kaum cebong kapir udah keliatan dongoknya dari awal tambah dongok lagi hahahah\n"
     ]
    }
   ],
   "source": [
    "def unnecessary_char(text):\n",
    "    sms = re.sub('\\\\+n', ' ', text)\n",
    "    sms = re.sub('\\n\\n', ' ', sms)\n",
    "    sms = re.sub('rt', ' ', sms)\n",
    "    sms = re.sub('RT', ' ', sms)\n",
    "    sms = re.sub('user', ' ', sms)\n",
    "    sms = re.sub('USER', ' ', sms)\n",
    "    sms = re.sub('((www\\.[^\\s]+)|(https?://[^\\s]+)|(http?://[^\\s]+))',' ',sms) #remove url\n",
    "    sms = re.sub(':', ' ', sms)\n",
    "    sms = re.sub(';', ' ', sms)\n",
    "    sms = re.sub('\\n', ' ', sms)\n",
    "    sms = re.sub('\\\\+', ' ', sms)\n",
    "    sms = re.sub(r\"\\d+\", \"\", sms) #remove angka\n",
    "    sms = sms.translate(str.maketrans('', '', string.punctuation))\n",
    "    sms = re.sub(' +', ' ', sms) #remove extra space\n",
    "    return sms\n",
    "\n",
    "data[\"clean_text\"] = data[\"clean_text\"].apply(unnecessary_char)\n",
    "print(\"The First 5 Texts after cleaning: \",*data[\"clean_text\"][:5], sep = \"\\n\")"
   ]
  },
  {
   "cell_type": "code",
   "execution_count": 86,
   "id": "505d0520",
   "metadata": {},
   "outputs": [],
   "source": [
    "#tokenize\n",
    "data['Tokenize_text'] = data.apply(lambda row: nltk.word_tokenize(row['clean_text']), axis=1)"
   ]
  },
  {
   "cell_type": "code",
   "execution_count": 87,
   "id": "fe6d93ab",
   "metadata": {},
   "outputs": [
    {
     "name": "stdout",
     "output_type": "stream",
     "text": [
      "The First 5 Texts after normalize:\n",
      "['di saat', 'semua', 'cowok', 'berusaha', 'melacak', 'perhatian', 'gue', 'kamu', 'lantas', 'remehkan', 'perhatian', 'yang', 'gue', 'kasih', 'khusus', 'ke', 'kamu', 'basic', 'kamu', 'cowok', 'bego']\n",
      "['siapa', 'yang', 'telat', 'memberi', 'tau', 'kamu', 'edan', 'sarap', 'gue', 'bergaul', 'dengan', 'cigax', 'jifla', 'calis', 'sama', 'siapa', 'itu', 'licew', 'juga']\n",
      "['kadang', 'aku', 'berpikir', 'kenapa', 'aku', 'tetap', 'percaya', 'pada', 'tuhan', 'padahal', 'aku', 'selalu', 'jatuh', 'berkali', 'kali', 'kadang', 'aku', 'merasa', 'tuhan', 'itu', 'meninggalkan', 'aku', 'sendirian', 'ketika', 'orang tuaku', 'berencana', 'berpisah', 'ketika', 'kakakku', 'lebih', 'memilih', 'jadi', 'kristen', 'ketika', 'aku', 'anak', 'ter']\n",
      "['aku', 'itu', 'aku', 'dan', 'ku', 'tau', 'matamu', 'sipit', 'tapi', 'dilihat', 'dari', 'mana', 'itu', 'aku']\n",
      "['kaum', 'cebong', 'kafir', 'sudah', 'kelihatan', 'dongoknya', 'dari', 'awal', 'tambah', 'dungu', 'lagi', 'haha']\n"
     ]
    }
   ],
   "source": [
    "#normalize kata kata alay\n",
    "alay_dict_map = dict(zip(alay['original'], alay['transform']))\n",
    "def normalize(text):\n",
    "    sms = [alay_dict_map[word] if word in alay_dict_map.keys() else word for word in text]\n",
    "    return sms\n",
    "\n",
    "data['Tokenize_text'] = data['Tokenize_text'].apply(normalize)\n",
    "print(\"The First 5 Texts after normalize:\",*data[\"Tokenize_text\"][:5], sep = \"\\n\")"
   ]
  },
  {
   "cell_type": "code",
   "execution_count": 88,
   "id": "1be3bd71",
   "metadata": {},
   "outputs": [
    {
     "name": "stdout",
     "output_type": "stream",
     "text": [
      "The First 5 Texts after remove stopword:\n",
      "['berusaha', 'melacak', 'perhatian', 'lantas', 'remehkan', 'perhatian', 'kasih', 'khusus', 'basic', 'bego']\n",
      "['telat', 'tau', 'edan', 'sarap', 'bergaul', 'calis', 'licew']\n",
      "['berpikir', 'percaya', 'tuhan', 'jatuh', 'berkali', 'kali', 'tuhan', 'meninggalkan', 'orang tuaku', 'berencana', 'berpisah', 'kakakku', 'memilih', 'kristen', 'anak', 'ter']\n",
      "['ku', 'tau', 'matamu', 'sipit']\n",
      "['kaum', 'cebong', 'kafir', 'dongoknya', 'dungu']\n"
     ]
    }
   ],
   "source": [
    "#remove stopword\n",
    "def remove_stopword(text):\n",
    "    sms = [word for word in text if word not in stopword_dict.stopword.values]\n",
    "    return sms\n",
    "\n",
    "data[\"Nostopword_Text\"] = data[\"Tokenize_text\"].apply(remove_stopword)\n",
    "print(\"The First 5 Texts after remove stopword:\",*data[\"Nostopword_Text\"][:5], sep = \"\\n\")"
   ]
  },
  {
   "cell_type": "code",
   "execution_count": 89,
   "id": "a2fc9af8",
   "metadata": {},
   "outputs": [
    {
     "data": {
      "text/html": [
       "<div>\n",
       "<style scoped>\n",
       "    .dataframe tbody tr th:only-of-type {\n",
       "        vertical-align: middle;\n",
       "    }\n",
       "\n",
       "    .dataframe tbody tr th {\n",
       "        vertical-align: top;\n",
       "    }\n",
       "\n",
       "    .dataframe thead th {\n",
       "        text-align: right;\n",
       "    }\n",
       "</style>\n",
       "<table border=\"1\" class=\"dataframe\">\n",
       "  <thead>\n",
       "    <tr style=\"text-align: right;\">\n",
       "      <th></th>\n",
       "      <th>Tweet</th>\n",
       "      <th>HS</th>\n",
       "      <th>Abusive</th>\n",
       "      <th>HS_Individual</th>\n",
       "      <th>HS_Group</th>\n",
       "      <th>HS_Religion</th>\n",
       "      <th>HS_Race</th>\n",
       "      <th>HS_Physical</th>\n",
       "      <th>HS_Gender</th>\n",
       "      <th>HS_Other</th>\n",
       "      <th>HS_Weak</th>\n",
       "      <th>HS_Moderate</th>\n",
       "      <th>HS_Strong</th>\n",
       "      <th>clean_text</th>\n",
       "      <th>Tokenize_text</th>\n",
       "      <th>Nostopword_Text</th>\n",
       "    </tr>\n",
       "  </thead>\n",
       "  <tbody>\n",
       "    <tr>\n",
       "      <th>0</th>\n",
       "      <td>- disaat semua cowok berusaha melacak perhatia...</td>\n",
       "      <td>1</td>\n",
       "      <td>1</td>\n",
       "      <td>1</td>\n",
       "      <td>0</td>\n",
       "      <td>0</td>\n",
       "      <td>0</td>\n",
       "      <td>0</td>\n",
       "      <td>0</td>\n",
       "      <td>1</td>\n",
       "      <td>1</td>\n",
       "      <td>0</td>\n",
       "      <td>0</td>\n",
       "      <td>disaat semua cowok berusaha melacak perhatian ...</td>\n",
       "      <td>[di saat, semua, cowok, berusaha, melacak, per...</td>\n",
       "      <td>[berusaha, melacak, perhatian, lantas, remehka...</td>\n",
       "    </tr>\n",
       "    <tr>\n",
       "      <th>1</th>\n",
       "      <td>RT USER: USER siapa yang telat ngasih tau elu?...</td>\n",
       "      <td>0</td>\n",
       "      <td>1</td>\n",
       "      <td>0</td>\n",
       "      <td>0</td>\n",
       "      <td>0</td>\n",
       "      <td>0</td>\n",
       "      <td>0</td>\n",
       "      <td>0</td>\n",
       "      <td>0</td>\n",
       "      <td>0</td>\n",
       "      <td>0</td>\n",
       "      <td>0</td>\n",
       "      <td>siapa yang telat ngasih tau elu edan sarap gu...</td>\n",
       "      <td>[siapa, yang, telat, memberi, tau, kamu, edan,...</td>\n",
       "      <td>[telat, tau, edan, sarap, bergaul, calis, licew]</td>\n",
       "    </tr>\n",
       "    <tr>\n",
       "      <th>2</th>\n",
       "      <td>41. Kadang aku berfikir, kenapa aku tetap perc...</td>\n",
       "      <td>0</td>\n",
       "      <td>0</td>\n",
       "      <td>0</td>\n",
       "      <td>0</td>\n",
       "      <td>0</td>\n",
       "      <td>0</td>\n",
       "      <td>0</td>\n",
       "      <td>0</td>\n",
       "      <td>0</td>\n",
       "      <td>0</td>\n",
       "      <td>0</td>\n",
       "      <td>0</td>\n",
       "      <td>kadang aku berfikir kenapa aku tetap percaya ...</td>\n",
       "      <td>[kadang, aku, berpikir, kenapa, aku, tetap, pe...</td>\n",
       "      <td>[berpikir, percaya, tuhan, jatuh, berkali, kal...</td>\n",
       "    </tr>\n",
       "  </tbody>\n",
       "</table>\n",
       "</div>"
      ],
      "text/plain": [
       "                                               Tweet  HS  Abusive  \\\n",
       "0  - disaat semua cowok berusaha melacak perhatia...   1        1   \n",
       "1  RT USER: USER siapa yang telat ngasih tau elu?...   0        1   \n",
       "2  41. Kadang aku berfikir, kenapa aku tetap perc...   0        0   \n",
       "\n",
       "   HS_Individual  HS_Group  HS_Religion  HS_Race  HS_Physical  HS_Gender  \\\n",
       "0              1         0            0        0            0          0   \n",
       "1              0         0            0        0            0          0   \n",
       "2              0         0            0        0            0          0   \n",
       "\n",
       "   HS_Other  HS_Weak  HS_Moderate  HS_Strong  \\\n",
       "0         1        1            0          0   \n",
       "1         0        0            0          0   \n",
       "2         0        0            0          0   \n",
       "\n",
       "                                          clean_text  \\\n",
       "0  disaat semua cowok berusaha melacak perhatian ...   \n",
       "1   siapa yang telat ngasih tau elu edan sarap gu...   \n",
       "2   kadang aku berfikir kenapa aku tetap percaya ...   \n",
       "\n",
       "                                       Tokenize_text  \\\n",
       "0  [di saat, semua, cowok, berusaha, melacak, per...   \n",
       "1  [siapa, yang, telat, memberi, tau, kamu, edan,...   \n",
       "2  [kadang, aku, berpikir, kenapa, aku, tetap, pe...   \n",
       "\n",
       "                                     Nostopword_Text  \n",
       "0  [berusaha, melacak, perhatian, lantas, remehka...  \n",
       "1   [telat, tau, edan, sarap, bergaul, calis, licew]  \n",
       "2  [berpikir, percaya, tuhan, jatuh, berkali, kal...  "
      ]
     },
     "execution_count": 89,
     "metadata": {},
     "output_type": "execute_result"
    }
   ],
   "source": [
    "data.head(3)"
   ]
  },
  {
   "cell_type": "code",
   "execution_count": 90,
   "id": "37fd7ec0",
   "metadata": {},
   "outputs": [
    {
     "name": "stdout",
     "output_type": "stream",
     "text": [
      "The First 5 lines in new_tweet :\n",
      "berusaha melacak perhatian lantas remehkan perhatian kasih khusus basic bego\n",
      "telat tau edan sarap bergaul calis licew\n",
      "berpikir percaya tuhan jatuh berkali kali tuhan meninggalkan orang tuaku berencana berpisah kakakku memilih kristen anak ter\n",
      "ku tau matamu sipit\n",
      "kaum cebong kafir dongoknya dungu\n"
     ]
    }
   ],
   "source": [
    "#ubah menjadi kalimat\n",
    "new_tweet = []\n",
    "for word in data['Nostopword_Text']:\n",
    "    msg = ' '.join([x for x in word])\n",
    "    new_tweet.append(msg)\n",
    "    \n",
    "print(\"The First 5 lines in new_tweet :\",*new_tweet[:5], sep = \"\\n\")"
   ]
  },
  {
   "cell_type": "code",
   "execution_count": 91,
   "id": "90eb1db4",
   "metadata": {},
   "outputs": [
    {
     "data": {
      "text/html": [
       "<div>\n",
       "<style scoped>\n",
       "    .dataframe tbody tr th:only-of-type {\n",
       "        vertical-align: middle;\n",
       "    }\n",
       "\n",
       "    .dataframe tbody tr th {\n",
       "        vertical-align: top;\n",
       "    }\n",
       "\n",
       "    .dataframe thead th {\n",
       "        text-align: right;\n",
       "    }\n",
       "</style>\n",
       "<table border=\"1\" class=\"dataframe\">\n",
       "  <thead>\n",
       "    <tr style=\"text-align: right;\">\n",
       "      <th></th>\n",
       "      <th>Tweet</th>\n",
       "      <th>HS</th>\n",
       "      <th>Abusive</th>\n",
       "      <th>HS_Individual</th>\n",
       "      <th>HS_Group</th>\n",
       "      <th>HS_Religion</th>\n",
       "      <th>HS_Race</th>\n",
       "      <th>HS_Physical</th>\n",
       "      <th>HS_Gender</th>\n",
       "      <th>HS_Other</th>\n",
       "      <th>HS_Weak</th>\n",
       "      <th>HS_Moderate</th>\n",
       "      <th>HS_Strong</th>\n",
       "      <th>clean_text</th>\n",
       "      <th>Tokenize_text</th>\n",
       "      <th>Nostopword_Text</th>\n",
       "      <th>Tweet Clean</th>\n",
       "    </tr>\n",
       "  </thead>\n",
       "  <tbody>\n",
       "    <tr>\n",
       "      <th>0</th>\n",
       "      <td>- disaat semua cowok berusaha melacak perhatia...</td>\n",
       "      <td>1</td>\n",
       "      <td>1</td>\n",
       "      <td>1</td>\n",
       "      <td>0</td>\n",
       "      <td>0</td>\n",
       "      <td>0</td>\n",
       "      <td>0</td>\n",
       "      <td>0</td>\n",
       "      <td>1</td>\n",
       "      <td>1</td>\n",
       "      <td>0</td>\n",
       "      <td>0</td>\n",
       "      <td>disaat semua cowok berusaha melacak perhatian ...</td>\n",
       "      <td>[di saat, semua, cowok, berusaha, melacak, per...</td>\n",
       "      <td>[berusaha, melacak, perhatian, lantas, remehka...</td>\n",
       "      <td>berusaha melacak perhatian lantas remehkan per...</td>\n",
       "    </tr>\n",
       "  </tbody>\n",
       "</table>\n",
       "</div>"
      ],
      "text/plain": [
       "                                               Tweet  HS  Abusive  \\\n",
       "0  - disaat semua cowok berusaha melacak perhatia...   1        1   \n",
       "\n",
       "   HS_Individual  HS_Group  HS_Religion  HS_Race  HS_Physical  HS_Gender  \\\n",
       "0              1         0            0        0            0          0   \n",
       "\n",
       "   HS_Other  HS_Weak  HS_Moderate  HS_Strong  \\\n",
       "0         1        1            0          0   \n",
       "\n",
       "                                          clean_text  \\\n",
       "0  disaat semua cowok berusaha melacak perhatian ...   \n",
       "\n",
       "                                       Tokenize_text  \\\n",
       "0  [di saat, semua, cowok, berusaha, melacak, per...   \n",
       "\n",
       "                                     Nostopword_Text  \\\n",
       "0  [berusaha, melacak, perhatian, lantas, remehka...   \n",
       "\n",
       "                                         Tweet Clean  \n",
       "0  berusaha melacak perhatian lantas remehkan per...  "
      ]
     },
     "execution_count": 91,
     "metadata": {},
     "output_type": "execute_result"
    }
   ],
   "source": [
    "data = pd.concat([data, pd.DataFrame(new_tweet, columns=['Tweet Clean'], index=data.index)], axis=1)\n",
    "data.head(1)"
   ]
  },
  {
   "cell_type": "code",
   "execution_count": 32,
   "id": "097cb3e7",
   "metadata": {},
   "outputs": [],
   "source": [
    "#def lematize(textt):\n",
    "    #factory = StemmerFactory()\n",
    "    #stemmer = factory.create_stemmer()\n",
    "    #lemas = [stemmer.stem(x) for x in textt]\n",
    "    #return lemas\n",
    "\n",
    "#data = pd.concat([data, pd.DataFrame(lematize(new_tweet), columns=['New_Tweet'], index=data.index)], axis=1)"
   ]
  },
  {
   "cell_type": "code",
   "execution_count": 92,
   "id": "23dc8684",
   "metadata": {},
   "outputs": [],
   "source": [
    "def classify(hs):\n",
    "    hasil = ' '\n",
    "    if int(hs) == 1:\n",
    "        hasil = 'positive' # hate speech label\n",
    "    else:\n",
    "        hasil = 'negative' # non hate speech label\n",
    "    return hasil\n",
    "\n",
    "data['HS_Class'] = data['HS'].apply(classify)"
   ]
  },
  {
   "cell_type": "code",
   "execution_count": 95,
   "id": "1e8d5302",
   "metadata": {},
   "outputs": [
    {
     "data": {
      "text/html": [
       "<div>\n",
       "<style scoped>\n",
       "    .dataframe tbody tr th:only-of-type {\n",
       "        vertical-align: middle;\n",
       "    }\n",
       "\n",
       "    .dataframe tbody tr th {\n",
       "        vertical-align: top;\n",
       "    }\n",
       "\n",
       "    .dataframe thead th {\n",
       "        text-align: right;\n",
       "    }\n",
       "</style>\n",
       "<table border=\"1\" class=\"dataframe\">\n",
       "  <thead>\n",
       "    <tr style=\"text-align: right;\">\n",
       "      <th></th>\n",
       "      <th>Tweet Clean</th>\n",
       "      <th>HS_Class</th>\n",
       "    </tr>\n",
       "  </thead>\n",
       "  <tbody>\n",
       "    <tr>\n",
       "      <th>621</th>\n",
       "      <td>sabar adik kunyuk bau sempak kuda</td>\n",
       "      <td>negative</td>\n",
       "    </tr>\n",
       "    <tr>\n",
       "      <th>8727</th>\n",
       "      <td>tidak apa apa lihat kontol gratis skip cuci ma...</td>\n",
       "      <td>negative</td>\n",
       "    </tr>\n",
       "    <tr>\n",
       "      <th>6068</th>\n",
       "      <td>hipotesis nama asli kerajaan padjadjaran padja...</td>\n",
       "      <td>negative</td>\n",
       "    </tr>\n",
       "  </tbody>\n",
       "</table>\n",
       "</div>"
      ],
      "text/plain": [
       "                                            Tweet Clean  HS_Class\n",
       "621                   sabar adik kunyuk bau sempak kuda  negative\n",
       "8727  tidak apa apa lihat kontol gratis skip cuci ma...  negative\n",
       "6068  hipotesis nama asli kerajaan padjadjaran padja...  negative"
      ]
     },
     "execution_count": 95,
     "metadata": {},
     "output_type": "execute_result"
    }
   ],
   "source": [
    "data[['Tweet Clean', 'HS_Class']].sample(3)"
   ]
  },
  {
   "cell_type": "code",
   "execution_count": 96,
   "id": "a1e6ad8a",
   "metadata": {},
   "outputs": [
    {
     "data": {
      "text/html": [
       "<div>\n",
       "<style scoped>\n",
       "    .dataframe tbody tr th:only-of-type {\n",
       "        vertical-align: middle;\n",
       "    }\n",
       "\n",
       "    .dataframe tbody tr th {\n",
       "        vertical-align: top;\n",
       "    }\n",
       "\n",
       "    .dataframe thead th {\n",
       "        text-align: right;\n",
       "    }\n",
       "</style>\n",
       "<table border=\"1\" class=\"dataframe\">\n",
       "  <thead>\n",
       "    <tr style=\"text-align: right;\">\n",
       "      <th></th>\n",
       "      <th>Tweet Clean</th>\n",
       "      <th>HS_Class</th>\n",
       "    </tr>\n",
       "  </thead>\n",
       "  <tbody>\n",
       "    <tr>\n",
       "      <th>0</th>\n",
       "      <td>berusaha melacak perhatian lantas remehkan per...</td>\n",
       "      <td>positive</td>\n",
       "    </tr>\n",
       "    <tr>\n",
       "      <th>1</th>\n",
       "      <td>telat tau edan sarap bergaul calis licew</td>\n",
       "      <td>negative</td>\n",
       "    </tr>\n",
       "    <tr>\n",
       "      <th>2</th>\n",
       "      <td>berpikir percaya tuhan jatuh berkali kali tuha...</td>\n",
       "      <td>negative</td>\n",
       "    </tr>\n",
       "  </tbody>\n",
       "</table>\n",
       "</div>"
      ],
      "text/plain": [
       "                                         Tweet Clean  HS_Class\n",
       "0  berusaha melacak perhatian lantas remehkan per...  positive\n",
       "1           telat tau edan sarap bergaul calis licew  negative\n",
       "2  berpikir percaya tuhan jatuh berkali kali tuha...  negative"
      ]
     },
     "execution_count": 96,
     "metadata": {},
     "output_type": "execute_result"
    }
   ],
   "source": [
    "dataku = data[['Tweet Clean', 'HS_Class']]\n",
    "dataku.head(3)"
   ]
  },
  {
   "cell_type": "markdown",
   "id": "433088ba",
   "metadata": {},
   "source": [
    "#### cek dimensi data"
   ]
  },
  {
   "cell_type": "code",
   "execution_count": 97,
   "id": "3e09d3e4",
   "metadata": {},
   "outputs": [
    {
     "data": {
      "text/plain": [
       "(13169, 2)"
      ]
     },
     "execution_count": 97,
     "metadata": {},
     "output_type": "execute_result"
    }
   ],
   "source": [
    "dataku.shape"
   ]
  },
  {
   "cell_type": "markdown",
   "id": "5c47abbb",
   "metadata": {},
   "source": [
    "#### cek duplikat data"
   ]
  },
  {
   "cell_type": "code",
   "execution_count": 98,
   "id": "b14a4a0e",
   "metadata": {},
   "outputs": [
    {
     "data": {
      "text/plain": [
       "491"
      ]
     },
     "execution_count": 98,
     "metadata": {},
     "output_type": "execute_result"
    }
   ],
   "source": [
    "dataku.duplicated().sum()"
   ]
  },
  {
   "cell_type": "code",
   "execution_count": 99,
   "id": "ae5acf66",
   "metadata": {},
   "outputs": [
    {
     "data": {
      "text/plain": [
       "(12678, 2)"
      ]
     },
     "execution_count": 99,
     "metadata": {},
     "output_type": "execute_result"
    }
   ],
   "source": [
    "dataku = dataku.drop_duplicates()\n",
    "dataku.shape"
   ]
  },
  {
   "cell_type": "code",
   "execution_count": 100,
   "id": "7b8d53b6",
   "metadata": {},
   "outputs": [
    {
     "data": {
      "text/plain": [
       "0"
      ]
     },
     "execution_count": 100,
     "metadata": {},
     "output_type": "execute_result"
    }
   ],
   "source": [
    "dataku.duplicated().sum()"
   ]
  },
  {
   "cell_type": "markdown",
   "id": "58b0d303",
   "metadata": {},
   "source": [
    "#### cek presentase null values"
   ]
  },
  {
   "cell_type": "code",
   "execution_count": 101,
   "id": "04373073",
   "metadata": {},
   "outputs": [
    {
     "data": {
      "text/plain": [
       "Tweet Clean    0.0\n",
       "HS_Class       0.0\n",
       "dtype: float64"
      ]
     },
     "execution_count": 101,
     "metadata": {},
     "output_type": "execute_result"
    }
   ],
   "source": [
    "dataku.isnull().sum()/dataku.shape[0]"
   ]
  },
  {
   "cell_type": "code",
   "execution_count": 102,
   "id": "284896f9",
   "metadata": {},
   "outputs": [],
   "source": [
    "# buat kolom total karakter dan total kalimat\n",
    "dataku['total_karakter'] = dataku['Tweet Clean'].apply(len)\n",
    "dataku['total_word'] = dataku['Tweet Clean'].apply(lambda x: len(x.split()))"
   ]
  },
  {
   "cell_type": "code",
   "execution_count": 103,
   "id": "a31af4f3",
   "metadata": {},
   "outputs": [
    {
     "data": {
      "text/html": [
       "<div>\n",
       "<style scoped>\n",
       "    .dataframe tbody tr th:only-of-type {\n",
       "        vertical-align: middle;\n",
       "    }\n",
       "\n",
       "    .dataframe tbody tr th {\n",
       "        vertical-align: top;\n",
       "    }\n",
       "\n",
       "    .dataframe thead th {\n",
       "        text-align: right;\n",
       "    }\n",
       "</style>\n",
       "<table border=\"1\" class=\"dataframe\">\n",
       "  <thead>\n",
       "    <tr style=\"text-align: right;\">\n",
       "      <th></th>\n",
       "      <th>Tweet Clean</th>\n",
       "      <th>HS_Class</th>\n",
       "      <th>total_karakter</th>\n",
       "      <th>total_word</th>\n",
       "    </tr>\n",
       "  </thead>\n",
       "  <tbody>\n",
       "    <tr>\n",
       "      <th>0</th>\n",
       "      <td>berusaha melacak perhatian lantas remehkan per...</td>\n",
       "      <td>positive</td>\n",
       "      <td>76</td>\n",
       "      <td>10</td>\n",
       "    </tr>\n",
       "    <tr>\n",
       "      <th>1</th>\n",
       "      <td>telat tau edan sarap bergaul calis licew</td>\n",
       "      <td>negative</td>\n",
       "      <td>40</td>\n",
       "      <td>7</td>\n",
       "    </tr>\n",
       "    <tr>\n",
       "      <th>2</th>\n",
       "      <td>berpikir percaya tuhan jatuh berkali kali tuha...</td>\n",
       "      <td>negative</td>\n",
       "      <td>124</td>\n",
       "      <td>17</td>\n",
       "    </tr>\n",
       "  </tbody>\n",
       "</table>\n",
       "</div>"
      ],
      "text/plain": [
       "                                         Tweet Clean  HS_Class  \\\n",
       "0  berusaha melacak perhatian lantas remehkan per...  positive   \n",
       "1           telat tau edan sarap bergaul calis licew  negative   \n",
       "2  berpikir percaya tuhan jatuh berkali kali tuha...  negative   \n",
       "\n",
       "   total_karakter  total_word  \n",
       "0              76          10  \n",
       "1              40           7  \n",
       "2             124          17  "
      ]
     },
     "execution_count": 103,
     "metadata": {},
     "output_type": "execute_result"
    }
   ],
   "source": [
    "dataku.head(3)"
   ]
  },
  {
   "cell_type": "code",
   "execution_count": 46,
   "id": "ec76827f",
   "metadata": {},
   "outputs": [],
   "source": [
    "dataku.to_csv('project.csv', index=False, columns=['Tweet Clean', 'HS_Class'])"
   ]
  },
  {
   "cell_type": "markdown",
   "id": "2fce0ccb",
   "metadata": {},
   "source": [
    "#### Univariate Analysis"
   ]
  },
  {
   "cell_type": "code",
   "execution_count": 106,
   "id": "db0ffece",
   "metadata": {},
   "outputs": [
    {
     "data": {
      "image/png": "[encoded data removed]",
      "text/plain": [
       "<Figure size 432x288 with 1 Axes>"
      ]
     },
     "metadata": {
      "needs_background": "light"
     },
     "output_type": "display_data"
    }
   ],
   "source": [
    "g = sns.kdeplot(dataku.total_karakter[(dataku[\"HS_Class\"] == 'positive') ], color=\"Blue\", shade = True)\n",
    "g = sns.kdeplot(dataku.total_karakter[(dataku[\"HS_Class\"] == 'negative') ], color=\"Red\", shade= True)\n",
    "g.set_xlabel(\"Total_Karakter\")\n",
    "g.set_ylabel(\"Frekuensi\")\n",
    "plt.title('Distribusi Total Karakter')\n",
    "g = g.legend(['Positive', 'Negative'])"
   ]
  },
  {
   "cell_type": "code",
   "execution_count": 108,
   "id": "6b839ba1",
   "metadata": {},
   "outputs": [
    {
     "data": {
      "image/png": "[encoded data removed]",
      "text/plain": [
       "<Figure size 432x288 with 1 Axes>"
      ]
     },
     "metadata": {
      "needs_background": "light"
     },
     "output_type": "display_data"
    }
   ],
   "source": [
    "g = sns.kdeplot(dataku.total_word[(dataku[\"HS_Class\"] == 'positive') ], color=\"Blue\", shade = True)\n",
    "g = sns.kdeplot(dataku.total_word[(dataku[\"HS_Class\"] == 'negative') ], color=\"Red\", shade= True)\n",
    "g.set_xlabel(\"Total_Karakter\")\n",
    "g.set_ylabel(\"Frekuensi\")\n",
    "plt.title('Distribusi Total Word')\n",
    "g = g.legend(['Positive', 'Negative'])"
   ]
  },
  {
   "cell_type": "code",
   "execution_count": 47,
   "id": "91c47190",
   "metadata": {},
   "outputs": [
    {
     "name": "stdout",
     "output_type": "stream",
     "text": [
      "{'mean_total_karakter': 74.6, 'mean_total_word': 10.7, 'median_total_karakter': 65.0, 'median_total_word': 9.0, 'modus_total_karakter': 17, 'modus_total_word': 5}\n"
     ]
    }
   ],
   "source": [
    "#measure of central tendency\n",
    "def statistika(tk,tw):\n",
    "    mean_total_karakter = tk.mean()\n",
    "    mean_total_word = tw.mean()\n",
    "    median_total_karakter = tk.median()\n",
    "    median_total_word = tw.median()\n",
    "    modus_total_karakter = tk.mode()[0]\n",
    "    modus_total_word = tw.mode()[0]\n",
    "    print({'mean_total_karakter':round(mean_total_karakter,1),\n",
    "          'mean_total_word':round(mean_total_word,1),\n",
    "          'median_total_karakter':median_total_karakter,\n",
    "          'median_total_word':median_total_word,\n",
    "          'modus_total_karakter':modus_total_karakter,\n",
    "          'modus_total_word':modus_total_word})\n",
    "\n",
    "statistika(dataku['total_karakter'], dataku['total_word'])"
   ]
  },
  {
   "cell_type": "code",
   "execution_count": 48,
   "id": "3b0983a2",
   "metadata": {},
   "outputs": [
    {
     "name": "stdout",
     "output_type": "stream",
     "text": [
      "STATISTIKA TOTAL KARAKTER\n",
      "batas bawah total_karakter:  -64.5\n",
      "nilai minimum:  0\n",
      "tidak ada outlier dari sisi batas bawah\n",
      "\n",
      "***\n",
      "\n",
      "batas atas total_karakter:  203.5\n",
      "nilai maksimum:  377\n",
      "ada outlier dari sisi batas atas\n"
     ]
    }
   ],
   "source": [
    "#measure of spread\n",
    "\n",
    "def spread(tk):\n",
    "    range_tk = tk.max() - tk.min()\n",
    "    p0 = tk.min()\n",
    "    p100 = tk.max()\n",
    "    q1 = tk.quantile(0.25)\n",
    "    q2 = tk.quantile(0.50)\n",
    "    q3 = tk.quantile(0.75)\n",
    "    iqr = q3 - q1\n",
    "    lower_limit = q1 - 1.5*iqr\n",
    "    upper_limit = q3 + 1.5*iqr\n",
    "    print('STATISTIKA TOTAL KARAKTER')\n",
    "    print('batas bawah total_karakter: ',lower_limit)\n",
    "    print('nilai minimum: ', p0)\n",
    "    if lower_limit < p0:\n",
    "        print('tidak ada outlier dari sisi batas bawah')\n",
    "    else:\n",
    "        print('ada outlier dari sisi batas bawah')\n",
    "    print()    \n",
    "    print('***')\n",
    "    print()\n",
    "    print('batas atas total_karakter: ', upper_limit)\n",
    "    print('nilai maksimum: ', p100)\n",
    "    if upper_limit > p100:\n",
    "        print('tidak ada outlier dari sisi batas atas')\n",
    "    else:\n",
    "        print('ada outlier dari sisi batas atas')\n",
    "        \n",
    "spread(dataku['total_karakter'])"
   ]
  },
  {
   "cell_type": "code",
   "execution_count": 25,
   "id": "263cf2af",
   "metadata": {},
   "outputs": [
    {
     "name": "stdout",
     "output_type": "stream",
     "text": [
      "STATISTIKA TOTAL WORD\n",
      "batas bawah total_word:  -10.0\n",
      "nilai minimum:  0\n",
      "tidak ada outlier dari sisi batas bawah\n",
      "\n",
      "***\n",
      "\n",
      "batas atas total_word:  30.0\n",
      "nilai maksimum:  50\n",
      "ada outlier dari sisi batas atas\n"
     ]
    }
   ],
   "source": [
    "def spread_tw(tw):\n",
    "    range_tw = tw.max() - tw.min()\n",
    "    p0 = tw.min()\n",
    "    p100 = tw.max()\n",
    "    q1 = tw.quantile(0.25)\n",
    "    q2 = tw.quantile(0.50)\n",
    "    q3 = tw.quantile(0.75)\n",
    "    iqr = q3 - q1\n",
    "    lower_limit = q1 - 1.5*iqr\n",
    "    upper_limit = q3 + 1.5*iqr\n",
    "    print('STATISTIKA TOTAL WORD')\n",
    "    print('batas bawah total_word: ',lower_limit)\n",
    "    print('nilai minimum: ', p0)\n",
    "    if lower_limit < p0:\n",
    "        print('tidak ada outlier dari sisi batas bawah')\n",
    "    else:\n",
    "        print('ada outlier dari sisi batas bawah')\n",
    "    print()    \n",
    "    print('***')\n",
    "    print()\n",
    "    print('batas atas total_word: ', upper_limit)\n",
    "    print('nilai maksimum: ', p100)\n",
    "    if upper_limit > p100:\n",
    "        print('tidak ada outlier dari sisi batas atas')\n",
    "    else:\n",
    "        print('ada outlier dari sisi batas atas')\n",
    "        \n",
    "spread_tw(dataku['total_word'])"
   ]
  },
  {
   "cell_type": "code",
   "execution_count": 49,
   "id": "ab960e30",
   "metadata": {},
   "outputs": [
    {
     "name": "stdout",
     "output_type": "stream",
     "text": [
      "VARIANS\n",
      "varians total karakter:  2470.6\n",
      "varians total word:  46.3\n",
      "\n",
      "***\n",
      "\n",
      "STANDAR DEVIASI\n",
      "standar deviasi total karakter:  49.7\n",
      "standar deviasi total word:  6.8\n"
     ]
    }
   ],
   "source": [
    "def var_std(tk,tw):\n",
    "    varians_tk = round(tk.var(),1)\n",
    "    varians_tw = round(tw.var(),1)\n",
    "    std_tk = round(tk.std(),1)\n",
    "    std_tw = round(tw.std(),1)\n",
    "    print('VARIANS')\n",
    "    print('varians total karakter: ', varians_tk)\n",
    "    print('varians total word: ', varians_tw)\n",
    "    print()\n",
    "    print('***')\n",
    "    print()\n",
    "    print('STANDAR DEVIASI')\n",
    "    print('standar deviasi total karakter: ', std_tk)\n",
    "    print('standar deviasi total word: ', std_tw)\n",
    "    \n",
    "var_std(dataku['total_karakter'], dataku['total_word'])"
   ]
  },
  {
   "cell_type": "code",
   "execution_count": 27,
   "id": "c43759a5",
   "metadata": {},
   "outputs": [
    {
     "name": "stdout",
     "output_type": "stream",
     "text": [
      "SKEWNESS\n",
      "skewness total karakter:  1.0\n",
      "skewness total word:  1.0\n",
      "\n",
      "***\n",
      "\n",
      "KURTOSIS\n",
      "kurtosis total karakter:  1.1\n",
      "kurtosis total word:  1.0\n"
     ]
    }
   ],
   "source": [
    "def skew_kurt(tk,tw):\n",
    "    skew_tk = round(tk.skew(),1)\n",
    "    skew_tw = round(tw.skew(),1)\n",
    "    kurt_tk = round(tk.kurtosis(),1)\n",
    "    kurt_tw = round(tw.kurtosis(),1)\n",
    "    print('SKEWNESS')\n",
    "    print('skewness total karakter: ', skew_tk)\n",
    "    print('skewness total word: ', skew_tw)\n",
    "    print()\n",
    "    print('***')\n",
    "    print()\n",
    "    print('KURTOSIS')\n",
    "    print('kurtosis total karakter: ', kurt_tk)\n",
    "    print('kurtosis total word: ', kurt_tw)\n",
    "    \n",
    "    \n",
    "    \n",
    "skew_kurt(dataku['total_karakter'], dataku['total_word'])"
   ]
  },
  {
   "cell_type": "code",
   "execution_count": 122,
   "id": "592cb2b7",
   "metadata": {},
   "outputs": [],
   "source": [
    "def plot_wordcloud(text, max_words=200, max_font_size=100, figure_size=(14.0,8.0), color = 'white',\n",
    "                   title = None, title_size=40, image_color=False):\n",
    "    stopwords = set(STOPWORDS)\n",
    "    more_stopwords = {'u', \"im\"}\n",
    "    stopwords = stopwords.union(more_stopwords)\n",
    "\n",
    "    wordcloud = WordCloud(background_color=color,\n",
    "                    stopwords = stopwords,\n",
    "                    max_words = max_words,\n",
    "                    max_font_size = max_font_size, \n",
    "                    random_state = 42,\n",
    "                    width=400, \n",
    "                    height=200)\n",
    "    wordcloud.generate(str(text))\n",
    "    \n",
    "    plt.imshow(wordcloud)\n",
    "    plt.axis(\"off\")\n",
    "    plt.show()\n"
   ]
  },
  {
   "cell_type": "markdown",
   "id": "9f8c8fd6",
   "metadata": {},
   "source": [
    "### Data Visualisasi"
   ]
  },
  {
   "cell_type": "code",
   "execution_count": 123,
   "id": "7f7c3b34",
   "metadata": {},
   "outputs": [
    {
     "data": {
      "text/html": [
       "<div>\n",
       "<style scoped>\n",
       "    .dataframe tbody tr th:only-of-type {\n",
       "        vertical-align: middle;\n",
       "    }\n",
       "\n",
       "    .dataframe tbody tr th {\n",
       "        vertical-align: top;\n",
       "    }\n",
       "\n",
       "    .dataframe thead th {\n",
       "        text-align: right;\n",
       "    }\n",
       "</style>\n",
       "<table border=\"1\" class=\"dataframe\">\n",
       "  <thead>\n",
       "    <tr style=\"text-align: right;\">\n",
       "      <th></th>\n",
       "      <th>HS_Class</th>\n",
       "      <th>Tweet Clean</th>\n",
       "    </tr>\n",
       "  </thead>\n",
       "  <tbody>\n",
       "    <tr>\n",
       "      <th>0</th>\n",
       "      <td>negative</td>\n",
       "      <td>7322</td>\n",
       "    </tr>\n",
       "    <tr>\n",
       "      <th>1</th>\n",
       "      <td>positive</td>\n",
       "      <td>5356</td>\n",
       "    </tr>\n",
       "  </tbody>\n",
       "</table>\n",
       "</div>"
      ],
      "text/plain": [
       "   HS_Class  Tweet Clean\n",
       "0  negative         7322\n",
       "1  positive         5356"
      ]
     },
     "execution_count": 123,
     "metadata": {},
     "output_type": "execute_result"
    }
   ],
   "source": [
    "viz = dataku[['Tweet Clean', 'HS_Class']]\n",
    "temp = viz.groupby(['HS_Class'])['Tweet Clean'].count().reset_index().sort_values(by=['Tweet Clean'], ascending=False)\n",
    "temp"
   ]
  },
  {
   "cell_type": "code",
   "execution_count": 124,
   "id": "0bbc9e9c",
   "metadata": {},
   "outputs": [
    {
     "data": {
      "text/plain": [
       "<AxesSubplot:xlabel='HS_Class', ylabel='Tweet Clean'>"
      ]
     },
     "execution_count": 124,
     "metadata": {},
     "output_type": "execute_result"
    },
    {
     "data": {
      "image/png": "[encoded data removed]",
      "text/plain": [
       "<Figure size 432x288 with 1 Axes>"
      ]
     },
     "metadata": {
      "needs_background": "light"
     },
     "output_type": "display_data"
    }
   ],
   "source": [
    "sns.barplot(x='HS_Class', y='Tweet Clean', data=temp)"
   ]
  },
  {
   "cell_type": "code",
   "execution_count": 125,
   "id": "3ca732c9",
   "metadata": {},
   "outputs": [
    {
     "data": {
      "text/html": [
       "<div>\n",
       "<style scoped>\n",
       "    .dataframe tbody tr th:only-of-type {\n",
       "        vertical-align: middle;\n",
       "    }\n",
       "\n",
       "    .dataframe tbody tr th {\n",
       "        vertical-align: top;\n",
       "    }\n",
       "\n",
       "    .dataframe thead th {\n",
       "        text-align: right;\n",
       "    }\n",
       "</style>\n",
       "<table border=\"1\" class=\"dataframe\">\n",
       "  <thead>\n",
       "    <tr style=\"text-align: right;\">\n",
       "      <th></th>\n",
       "      <th>Tweet Clean</th>\n",
       "      <th>HS_Class</th>\n",
       "      <th>total_karakter</th>\n",
       "      <th>total_word</th>\n",
       "    </tr>\n",
       "  </thead>\n",
       "  <tbody>\n",
       "    <tr>\n",
       "      <th>1</th>\n",
       "      <td>telat tau edan sarap bergaul calis licew</td>\n",
       "      <td>negative</td>\n",
       "      <td>40</td>\n",
       "      <td>7</td>\n",
       "    </tr>\n",
       "    <tr>\n",
       "      <th>2</th>\n",
       "      <td>berpikir percaya tuhan jatuh berkali kali tuha...</td>\n",
       "      <td>negative</td>\n",
       "      <td>124</td>\n",
       "      <td>17</td>\n",
       "    </tr>\n",
       "    <tr>\n",
       "      <th>3</th>\n",
       "      <td>ku tau matamu sipit</td>\n",
       "      <td>negative</td>\n",
       "      <td>19</td>\n",
       "      <td>4</td>\n",
       "    </tr>\n",
       "  </tbody>\n",
       "</table>\n",
       "</div>"
      ],
      "text/plain": [
       "                                         Tweet Clean  HS_Class  \\\n",
       "1           telat tau edan sarap bergaul calis licew  negative   \n",
       "2  berpikir percaya tuhan jatuh berkali kali tuha...  negative   \n",
       "3                                ku tau matamu sipit  negative   \n",
       "\n",
       "   total_karakter  total_word  \n",
       "1              40           7  \n",
       "2             124          17  \n",
       "3              19           4  "
      ]
     },
     "execution_count": 125,
     "metadata": {},
     "output_type": "execute_result"
    }
   ],
   "source": [
    "data_negative = dataku.loc[dataku['HS_Class']=='negative']\n",
    "data_negative.head(3)"
   ]
  },
  {
   "cell_type": "code",
   "execution_count": 126,
   "id": "1e4a35c0",
   "metadata": {},
   "outputs": [
    {
     "data": {
      "image/png": "[encoded data removed]",
      "text/plain": [
       "<Figure size 432x288 with 1 Axes>"
      ]
     },
     "metadata": {
      "needs_background": "light"
     },
     "output_type": "display_data"
    }
   ],
   "source": [
    "plot_wordcloud(data_negative['Tweet Clean'], max_words=200, max_font_size=100, figure_size=(14.0,8.0), color = 'white',\n",
    "                   title = None, title_size=40, image_color=False)"
   ]
  },
  {
   "cell_type": "code",
   "execution_count": 127,
   "id": "d9bc5c59",
   "metadata": {},
   "outputs": [
    {
     "data": {
      "text/html": [
       "<div>\n",
       "<style scoped>\n",
       "    .dataframe tbody tr th:only-of-type {\n",
       "        vertical-align: middle;\n",
       "    }\n",
       "\n",
       "    .dataframe tbody tr th {\n",
       "        vertical-align: top;\n",
       "    }\n",
       "\n",
       "    .dataframe thead th {\n",
       "        text-align: right;\n",
       "    }\n",
       "</style>\n",
       "<table border=\"1\" class=\"dataframe\">\n",
       "  <thead>\n",
       "    <tr style=\"text-align: right;\">\n",
       "      <th></th>\n",
       "      <th>Tweet Clean</th>\n",
       "      <th>HS_Class</th>\n",
       "      <th>total_karakter</th>\n",
       "      <th>total_word</th>\n",
       "    </tr>\n",
       "  </thead>\n",
       "  <tbody>\n",
       "    <tr>\n",
       "      <th>0</th>\n",
       "      <td>berusaha melacak perhatian lantas remehkan per...</td>\n",
       "      <td>positive</td>\n",
       "      <td>76</td>\n",
       "      <td>10</td>\n",
       "    </tr>\n",
       "    <tr>\n",
       "      <th>4</th>\n",
       "      <td>kaum cebong kafir dongoknya dungu</td>\n",
       "      <td>positive</td>\n",
       "      <td>33</td>\n",
       "      <td>5</td>\n",
       "    </tr>\n",
       "    <tr>\n",
       "      <th>5</th>\n",
       "      <td>bani taplak dan kawan kawan</td>\n",
       "      <td>positive</td>\n",
       "      <td>27</td>\n",
       "      <td>5</td>\n",
       "    </tr>\n",
       "  </tbody>\n",
       "</table>\n",
       "</div>"
      ],
      "text/plain": [
       "                                         Tweet Clean  HS_Class  \\\n",
       "0  berusaha melacak perhatian lantas remehkan per...  positive   \n",
       "4                  kaum cebong kafir dongoknya dungu  positive   \n",
       "5                        bani taplak dan kawan kawan  positive   \n",
       "\n",
       "   total_karakter  total_word  \n",
       "0              76          10  \n",
       "4              33           5  \n",
       "5              27           5  "
      ]
     },
     "execution_count": 127,
     "metadata": {},
     "output_type": "execute_result"
    }
   ],
   "source": [
    "data_positive = dataku.loc[dataku['HS_Class']=='positive']\n",
    "data_positive.head(3)"
   ]
  },
  {
   "cell_type": "code",
   "execution_count": 128,
   "id": "70dec5a4",
   "metadata": {},
   "outputs": [
    {
     "data": {
      "image/png": "[encoded data removed]",
      "text/plain": [
       "<Figure size 432x288 with 1 Axes>"
      ]
     },
     "metadata": {
      "needs_background": "light"
     },
     "output_type": "display_data"
    }
   ],
   "source": [
    "plot_wordcloud(data_positive['Tweet Clean'], max_words=200, max_font_size=100, figure_size=(14.0,8.0), color = 'white',\n",
    "                   title = None, title_size=40, image_color=False)"
   ]
  }
 ],
 "metadata": {
  "kernelspec": {
   "display_name": "Python 3 (ipykernel)",
   "language": "python",
   "name": "python3"
  },
  "language_info": {
   "codemirror_mode": {
    "name": "ipython",
    "version": 3
   },
   "file_extension": ".py",
   "mimetype": "text/x-python",
   "name": "python",
   "nbconvert_exporter": "python",
   "pygments_lexer": "ipython3",
   "version": "3.9.7"
  }
 },
 "nbformat": 4,
 "nbformat_minor": 5
}
